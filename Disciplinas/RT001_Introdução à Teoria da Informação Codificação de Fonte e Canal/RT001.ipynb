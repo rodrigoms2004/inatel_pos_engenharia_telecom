{
 "cells": [
  {
   "cell_type": "markdown",
   "id": "f34aa986",
   "metadata": {},
   "source": [
    "# RT001_Introdução à Teoria da Informação Codificação de Fonte e Canal"
   ]
  },
  {
   "cell_type": "markdown",
   "id": "51d11907",
   "metadata": {},
   "source": [
    "## Libraries"
   ]
  },
  {
   "cell_type": "code",
   "execution_count": 255,
   "id": "9dbcc7e6",
   "metadata": {},
   "outputs": [],
   "source": [
    "import pandas as pd\n",
    "import numpy as np\n",
    "import math\n",
    "from itertools import product, combinations\n",
    "\n",
    "# import laguide as lag"
   ]
  },
  {
   "cell_type": "markdown",
   "id": "27fce693",
   "metadata": {},
   "source": [
    "### Sinal e probabilidades"
   ]
  },
  {
   "cell_type": "code",
   "execution_count": 3,
   "id": "7c481052",
   "metadata": {},
   "outputs": [],
   "source": [
    "# S0, S1 e S2 -> A, I e W\n",
    "s = ['000', '100', '111']\n",
    "p = [0.5, 0.3, 0.2]"
   ]
  },
  {
   "cell_type": "markdown",
   "id": "36482dc4",
   "metadata": {},
   "source": [
    "### Decodificador"
   ]
  },
  {
   "cell_type": "code",
   "execution_count": 4,
   "id": "bc09ed22",
   "metadata": {},
   "outputs": [
    {
     "data": {
      "text/plain": [
       "1.0"
      ]
     },
     "execution_count": 4,
     "metadata": {},
     "output_type": "execute_result"
    }
   ],
   "source": [
    "math.log2(2)"
   ]
  },
  {
   "cell_type": "markdown",
   "id": "9ba49747",
   "metadata": {},
   "source": [
    "### huffman algorithm python"
   ]
  },
  {
   "cell_type": "code",
   "execution_count": 8,
   "id": "7bed4fd4",
   "metadata": {},
   "outputs": [],
   "source": [
    "# https://www.programiz.com/dsa/huffman-coding"
   ]
  },
  {
   "cell_type": "markdown",
   "id": "6a2b77f8",
   "metadata": {},
   "source": [
    "### Exercicio 1"
   ]
  },
  {
   "cell_type": "code",
   "execution_count": 9,
   "id": "54663390",
   "metadata": {},
   "outputs": [],
   "source": [
    "# S0, S1, S2, S3, S4\n",
    "prob = [0.1, 0.25, 0.40, 0.20, 0.05]"
   ]
  },
  {
   "cell_type": "code",
   "execution_count": 10,
   "id": "9930bdbf",
   "metadata": {},
   "outputs": [],
   "source": [
    "def entropiaFonte(prob):\n",
    "    return sum([prob[indice] * math.log2(1.0/prob[indice]) for indice in range(len(prob))])"
   ]
  },
  {
   "cell_type": "code",
   "execution_count": 11,
   "id": "f37f3dac",
   "metadata": {},
   "outputs": [
    {
     "name": "stdout",
     "output_type": "stream",
     "text": [
      "2.041446071165522\n"
     ]
    }
   ],
   "source": [
    "H = entropiaFonte(prob)\n",
    "print (H)"
   ]
  },
  {
   "cell_type": "code",
   "execution_count": 12,
   "id": "d6ac7ad5",
   "metadata": {},
   "outputs": [],
   "source": [
    "# S0, S1, S2, S3, S4\n",
    "palavrasCodigos = ['0010', '01', '1', '000', '0011']"
   ]
  },
  {
   "cell_type": "code",
   "execution_count": 13,
   "id": "6c173ed6",
   "metadata": {},
   "outputs": [],
   "source": [
    "def comprimentoMedio(listaPalavras, prob):\n",
    "    tamanhoPalavra = [len(palavra) for palavra in listaPalavras]\n",
    "    return sum([tamanhoPalavra[indice] * prob[indice] for indice in range(len(tamanhoPalavra))])"
   ]
  },
  {
   "cell_type": "code",
   "execution_count": 14,
   "id": "8502e090",
   "metadata": {},
   "outputs": [
    {
     "name": "stdout",
     "output_type": "stream",
     "text": [
      "2.1\n"
     ]
    }
   ],
   "source": [
    "L = comprimentoMedio(palavrasCodigos, prob)\n",
    "print(L)"
   ]
  },
  {
   "cell_type": "code",
   "execution_count": 15,
   "id": "983c0801",
   "metadata": {},
   "outputs": [
    {
     "name": "stdout",
     "output_type": "stream",
     "text": [
      "0.9721171767454866\n"
     ]
    }
   ],
   "source": [
    "Eficiencia = H/L\n",
    "print(Eficiencia)"
   ]
  },
  {
   "cell_type": "code",
   "execution_count": 16,
   "id": "656f78bc",
   "metadata": {},
   "outputs": [
    {
     "name": "stdout",
     "output_type": "stream",
     "text": [
      "A eficiencia desta bagaça é de 97.2117 %\n"
     ]
    }
   ],
   "source": [
    "print(f\"A eficiencia desta bagaça é de {Eficiencia*100:.4f} %\")"
   ]
  },
  {
   "cell_type": "markdown",
   "id": "bfd2ce76",
   "metadata": {},
   "source": [
    "## Subespaço vetorial\n",
    "\n",
    "https://bvanderlei.github.io/jupyter-guide-to-linear-algebra/Linear_Independence.html\n",
    "\n",
    "Preciso entender isso ainda..."
   ]
  },
  {
   "cell_type": "code",
   "execution_count": 17,
   "id": "25f9cbfb",
   "metadata": {},
   "outputs": [],
   "source": [
    "S = [[0, 0, 0, 0, 0],\n",
    "    [0, 1, 0, 1, 1],\n",
    "    [1, 0, 0, 1, 0],\n",
    "    [1, 1, 0, 0, 1],\n",
    "    [0, 1, 1, 0, 0],\n",
    "    [0, 0, 1, 1, 1],\n",
    "    [1, 1, 1, 1, 0],\n",
    "    [1, 0, 1, 0, 1]]"
   ]
  },
  {
   "cell_type": "code",
   "execution_count": 18,
   "id": "45b43023",
   "metadata": {},
   "outputs": [
    {
     "data": {
      "text/plain": [
       "array([[0, 0, 0, 0, 0],\n",
       "       [0, 1, 0, 1, 1],\n",
       "       [1, 0, 0, 1, 0],\n",
       "       [1, 1, 0, 0, 1],\n",
       "       [0, 1, 1, 0, 0],\n",
       "       [0, 0, 1, 1, 1],\n",
       "       [1, 1, 1, 1, 0],\n",
       "       [1, 0, 1, 0, 1]])"
      ]
     },
     "execution_count": 18,
     "metadata": {},
     "output_type": "execute_result"
    }
   ],
   "source": [
    "S_augmented = np.array(S)\n",
    "S_augmented"
   ]
  },
  {
   "cell_type": "code",
   "execution_count": 19,
   "id": "f7fcd861",
   "metadata": {},
   "outputs": [
    {
     "data": {
      "text/plain": [
       "(array([[-0.89442719, -0.4472136 ],\n",
       "        [-0.4472136 ,  0.89442719]]),\n",
       " array([[-2.23606798,  1.78885438,  0.        ],\n",
       "        [ 0.        , -5.81377674,  0.        ]]))"
      ]
     },
     "execution_count": 19,
     "metadata": {},
     "output_type": "execute_result"
    }
   ],
   "source": [
    "A_augmented = np.array([[2,1,0],[1,-6,0]])\n",
    "# print(lag.FullRowReduction(A_augmented))\n",
    "\n",
    "np.linalg.qr(A_augmented, 'complete')"
   ]
  },
  {
   "cell_type": "code",
   "execution_count": 20,
   "id": "988922f4",
   "metadata": {},
   "outputs": [],
   "source": [
    "ref, pivots = np.linalg.qr(S_augmented, 'complete')"
   ]
  },
  {
   "cell_type": "markdown",
   "id": "67a20265",
   "metadata": {},
   "source": [
    "## Matrix Geradora"
   ]
  },
  {
   "cell_type": "markdown",
   "id": "f2d5a641",
   "metadata": {},
   "source": [
    "### Array de mensagens \n",
    "\n",
    "De 000 a 111"
   ]
  },
  {
   "cell_type": "code",
   "execution_count": 256,
   "id": "4e69d25e",
   "metadata": {},
   "outputs": [
    {
     "data": {
      "text/plain": [
       "[array([0, 0, 0]),\n",
       " array([0, 0, 1]),\n",
       " array([0, 1, 0]),\n",
       " array([0, 1, 1]),\n",
       " array([1, 0, 0]),\n",
       " array([1, 0, 1]),\n",
       " array([1, 1, 0]),\n",
       " array([1, 1, 1])]"
      ]
     },
     "execution_count": 256,
     "metadata": {},
     "output_type": "execute_result"
    }
   ],
   "source": [
    "# Generate all binary combinations\n",
    "combinationsOfMessages = product([0, 1], repeat=3)\n",
    "\n",
    "# Convert each combination to a NumPy array\n",
    "messages = [np.array(combination) for combination in combinationsOfMessages]\n",
    "messages"
   ]
  },
  {
   "cell_type": "markdown",
   "id": "154756ce",
   "metadata": {},
   "source": [
    "### Matriz Geradora Exemplo 2.8 slide 61\n",
    "\n",
    "Utilza os vetores da base"
   ]
  },
  {
   "cell_type": "code",
   "execution_count": 257,
   "id": "dba92c43",
   "metadata": {},
   "outputs": [],
   "source": [
    "G = np.array([\n",
    "    [0, 1, 0, 1, 1],\n",
    "    [1, 0, 0, 1, 0],\n",
    "    [0, 1, 1, 0, 0]\n",
    "])\n",
    "\n",
    "# message = np.array([1, 0, 0])"
   ]
  },
  {
   "cell_type": "code",
   "execution_count": 293,
   "id": "b773e48c",
   "metadata": {},
   "outputs": [],
   "source": [
    "def gerarVetoresCodigo(M_G, M_Messages):\n",
    "    codes = []\n",
    "    for message in M_Messages:\n",
    "        mult = (message * M_G.T).T\n",
    "        code = np.bitwise_xor.reduce(mult, axis=0)\n",
    "        dict_code = {\n",
    "            \"message\": message,\n",
    "            \"code\": code\n",
    "        }\n",
    "        codes.append(dict_code)\n",
    "    return pd.DataFrame(codes)"
   ]
  },
  {
   "cell_type": "code",
   "execution_count": 291,
   "id": "508e5fba",
   "metadata": {},
   "outputs": [
    {
     "data": {
      "text/html": [
       "<div>\n",
       "<style scoped>\n",
       "    .dataframe tbody tr th:only-of-type {\n",
       "        vertical-align: middle;\n",
       "    }\n",
       "\n",
       "    .dataframe tbody tr th {\n",
       "        vertical-align: top;\n",
       "    }\n",
       "\n",
       "    .dataframe thead th {\n",
       "        text-align: right;\n",
       "    }\n",
       "</style>\n",
       "<table border=\"1\" class=\"dataframe\">\n",
       "  <thead>\n",
       "    <tr style=\"text-align: right;\">\n",
       "      <th></th>\n",
       "      <th>message</th>\n",
       "      <th>code</th>\n",
       "    </tr>\n",
       "  </thead>\n",
       "  <tbody>\n",
       "    <tr>\n",
       "      <th>0</th>\n",
       "      <td>[0, 0, 0]</td>\n",
       "      <td>[0, 0, 0, 0, 0]</td>\n",
       "    </tr>\n",
       "    <tr>\n",
       "      <th>1</th>\n",
       "      <td>[0, 0, 1]</td>\n",
       "      <td>[0, 1, 1, 0, 0]</td>\n",
       "    </tr>\n",
       "    <tr>\n",
       "      <th>2</th>\n",
       "      <td>[0, 1, 0]</td>\n",
       "      <td>[1, 0, 0, 1, 0]</td>\n",
       "    </tr>\n",
       "    <tr>\n",
       "      <th>3</th>\n",
       "      <td>[0, 1, 1]</td>\n",
       "      <td>[1, 1, 1, 1, 0]</td>\n",
       "    </tr>\n",
       "    <tr>\n",
       "      <th>4</th>\n",
       "      <td>[1, 0, 0]</td>\n",
       "      <td>[0, 1, 0, 1, 1]</td>\n",
       "    </tr>\n",
       "    <tr>\n",
       "      <th>5</th>\n",
       "      <td>[1, 0, 1]</td>\n",
       "      <td>[0, 0, 1, 1, 1]</td>\n",
       "    </tr>\n",
       "    <tr>\n",
       "      <th>6</th>\n",
       "      <td>[1, 1, 0]</td>\n",
       "      <td>[1, 1, 0, 0, 1]</td>\n",
       "    </tr>\n",
       "    <tr>\n",
       "      <th>7</th>\n",
       "      <td>[1, 1, 1]</td>\n",
       "      <td>[1, 0, 1, 0, 1]</td>\n",
       "    </tr>\n",
       "  </tbody>\n",
       "</table>\n",
       "</div>"
      ],
      "text/plain": [
       "     message             code\n",
       "0  [0, 0, 0]  [0, 0, 0, 0, 0]\n",
       "1  [0, 0, 1]  [0, 1, 1, 0, 0]\n",
       "2  [0, 1, 0]  [1, 0, 0, 1, 0]\n",
       "3  [0, 1, 1]  [1, 1, 1, 1, 0]\n",
       "4  [1, 0, 0]  [0, 1, 0, 1, 1]\n",
       "5  [1, 0, 1]  [0, 0, 1, 1, 1]\n",
       "6  [1, 1, 0]  [1, 1, 0, 0, 1]\n",
       "7  [1, 1, 1]  [1, 0, 1, 0, 1]"
      ]
     },
     "execution_count": 291,
     "metadata": {},
     "output_type": "execute_result"
    }
   ],
   "source": [
    "vetoresCodigos = gerarVetoresCodigo(G, messages)\n",
    "vetoresCodigos"
   ]
  },
  {
   "cell_type": "code",
   "execution_count": null,
   "id": "e2406a23",
   "metadata": {
    "scrolled": true
   },
   "outputs": [],
   "source": []
  },
  {
   "cell_type": "markdown",
   "id": "0b400a25",
   "metadata": {},
   "source": [
    "### Matriz geradora: Exemplo 2.9\n",
    "\n",
    "Separar o código da paridade"
   ]
  },
  {
   "cell_type": "code",
   "execution_count": 259,
   "id": "b5b45819",
   "metadata": {},
   "outputs": [
    {
     "name": "stdout",
     "output_type": "stream",
     "text": [
      "Matriz geradora:\n",
      "[[0 1 0 1 1]\n",
      " [1 0 0 1 0]\n",
      " [0 1 1 0 0]]\n",
      "\n",
      "k=3 linhas por n=5 colunas\n",
      "\n",
      "Matriz identidade:\n",
      "[[1 0 0]\n",
      " [0 1 0]\n",
      " [0 0 1]]\n"
     ]
    }
   ],
   "source": [
    "k = np.size(G, axis=0)\n",
    "n = np.size(G, axis=1)\n",
    "I = np.identity(3, dtype=int) # matriz identidade\n",
    "\n",
    "print(f\"Matriz geradora:\\n{G}\")\n",
    "print(f\"\\nk={k} linhas por n={n} colunas\\n\")\n",
    "print(f\"Matriz identidade:\\n{I}\")"
   ]
  },
  {
   "cell_type": "markdown",
   "id": "be965b40",
   "metadata": {},
   "source": [
    "### Gerando combinações\n",
    "\n",
    "g0 = [0, 1, 0, 1, 1]</br>\n",
    "g1 = [1, 0, 0, 1, 0]</br>\n",
    "g2 = [0, 1, 1, 0, 0]</br>\n",
    "\n",
    "#### Possibilidades: \n",
    "* g0 **XOR** g1        = [1, 1, 0, 0, 1]\n",
    "* g0 **XOR** g2        = [0, 0, 1, 1, 1]\n",
    "* g1 **XOR** g2        = [1, 1, 1, 1, 0]\n",
    "* g0 **XOR** g1 XOR g2 = [1, 0, 1, 0, 1]"
   ]
  },
  {
   "cell_type": "code",
   "execution_count": 266,
   "id": "a065ef71",
   "metadata": {},
   "outputs": [],
   "source": [
    "def generateCombinations(matrix):\n",
    "    rows_count = matrix.shape[0] # k linhas\n",
    "    combination_list = []\n",
    "    # Generate all combinations of rows\n",
    "    for r in range(1, rows_count + 1):\n",
    "        combination_list.extend(combinations(range(rows_count), r))\n",
    "\n",
    "    # Calculate XOR for each combination\n",
    "    row_xor = [np.bitwise_xor.reduce(matrix[list(comb)], axis=0) for comb in combination_list]\n",
    "\n",
    "    return np.array(row_xor)"
   ]
  },
  {
   "cell_type": "code",
   "execution_count": 269,
   "id": "671d118f",
   "metadata": {},
   "outputs": [
    {
     "data": {
      "text/plain": [
       "array([[0, 1, 0, 1, 1],\n",
       "       [1, 0, 0, 1, 0],\n",
       "       [0, 1, 1, 0, 0],\n",
       "       [1, 1, 0, 0, 1],\n",
       "       [0, 0, 1, 1, 1],\n",
       "       [1, 1, 1, 1, 0],\n",
       "       [1, 0, 1, 0, 1]])"
      ]
     },
     "execution_count": 269,
     "metadata": {},
     "output_type": "execute_result"
    }
   ],
   "source": [
    "combs = generateCombinations(G)\n",
    "combs"
   ]
  },
  {
   "cell_type": "markdown",
   "id": "b9502388",
   "metadata": {},
   "source": [
    "A matriz paridade tem dimensões k X n-2 ou 3x2"
   ]
  },
  {
   "cell_type": "markdown",
   "id": "00ab1353",
   "metadata": {},
   "source": [
    "### Matriz sistemática e de Paridade"
   ]
  },
  {
   "cell_type": "code",
   "execution_count": 302,
   "id": "19428089",
   "metadata": {},
   "outputs": [],
   "source": [
    "def generateSistematicGandParity(M_Identity, M_Combinations, n):\n",
    "    G_systematic_List = []\n",
    "    parity_matrix_List = []\n",
    "    for row_i in M_Identity:\n",
    "        for comb in M_Combinations:\n",
    "            parity = comb[:n-2-1]\n",
    "            code_from_G = comb[n-2-1:]\n",
    "\n",
    "            if np.array_equal(row_i, code_from_G):\n",
    "                g_systematic = np.concatenate((parity, row_i))\n",
    "                \n",
    "                G_systematic_List.append(g_systematic)\n",
    "                parity_matrix_List.append(parity)\n",
    "    \n",
    "    return np.array(G_systematic_List), np.array(parity_matrix_List)"
   ]
  },
  {
   "cell_type": "code",
   "execution_count": 303,
   "id": "f456d3f1",
   "metadata": {},
   "outputs": [
    {
     "name": "stdout",
     "output_type": "stream",
     "text": [
      "[[0 1 1 0 0]\n",
      " [1 0 0 1 0]\n",
      " [1 1 0 0 1]] \n",
      "\n",
      "[[0 1]\n",
      " [1 0]\n",
      " [1 1]]\n"
     ]
    }
   ],
   "source": [
    "n = combs[0].shape[0]\n",
    "G_systematic, P_matrix = generateSistematicGandParity(I, combs, n)\n",
    "print(G_systematic, '\\n')\n",
    "print(P_matrix)"
   ]
  },
  {
   "cell_type": "markdown",
   "id": "70cccc11",
   "metadata": {},
   "source": [
    "### Gerando novos codigos"
   ]
  },
  {
   "cell_type": "code",
   "execution_count": 294,
   "id": "ab470b51",
   "metadata": {},
   "outputs": [
    {
     "data": {
      "text/html": [
       "<div>\n",
       "<style scoped>\n",
       "    .dataframe tbody tr th:only-of-type {\n",
       "        vertical-align: middle;\n",
       "    }\n",
       "\n",
       "    .dataframe tbody tr th {\n",
       "        vertical-align: top;\n",
       "    }\n",
       "\n",
       "    .dataframe thead th {\n",
       "        text-align: right;\n",
       "    }\n",
       "</style>\n",
       "<table border=\"1\" class=\"dataframe\">\n",
       "  <thead>\n",
       "    <tr style=\"text-align: right;\">\n",
       "      <th></th>\n",
       "      <th>message</th>\n",
       "      <th>code</th>\n",
       "    </tr>\n",
       "  </thead>\n",
       "  <tbody>\n",
       "    <tr>\n",
       "      <th>0</th>\n",
       "      <td>[0, 0, 0]</td>\n",
       "      <td>[0, 0, 0, 0, 0]</td>\n",
       "    </tr>\n",
       "    <tr>\n",
       "      <th>1</th>\n",
       "      <td>[0, 0, 1]</td>\n",
       "      <td>[1, 1, 0, 0, 1]</td>\n",
       "    </tr>\n",
       "    <tr>\n",
       "      <th>2</th>\n",
       "      <td>[0, 1, 0]</td>\n",
       "      <td>[1, 0, 0, 1, 0]</td>\n",
       "    </tr>\n",
       "    <tr>\n",
       "      <th>3</th>\n",
       "      <td>[0, 1, 1]</td>\n",
       "      <td>[0, 1, 0, 1, 1]</td>\n",
       "    </tr>\n",
       "    <tr>\n",
       "      <th>4</th>\n",
       "      <td>[1, 0, 0]</td>\n",
       "      <td>[0, 1, 1, 0, 0]</td>\n",
       "    </tr>\n",
       "    <tr>\n",
       "      <th>5</th>\n",
       "      <td>[1, 0, 1]</td>\n",
       "      <td>[1, 0, 1, 0, 1]</td>\n",
       "    </tr>\n",
       "    <tr>\n",
       "      <th>6</th>\n",
       "      <td>[1, 1, 0]</td>\n",
       "      <td>[1, 1, 1, 1, 0]</td>\n",
       "    </tr>\n",
       "    <tr>\n",
       "      <th>7</th>\n",
       "      <td>[1, 1, 1]</td>\n",
       "      <td>[0, 0, 1, 1, 1]</td>\n",
       "    </tr>\n",
       "  </tbody>\n",
       "</table>\n",
       "</div>"
      ],
      "text/plain": [
       "     message             code\n",
       "0  [0, 0, 0]  [0, 0, 0, 0, 0]\n",
       "1  [0, 0, 1]  [1, 1, 0, 0, 1]\n",
       "2  [0, 1, 0]  [1, 0, 0, 1, 0]\n",
       "3  [0, 1, 1]  [0, 1, 0, 1, 1]\n",
       "4  [1, 0, 0]  [0, 1, 1, 0, 0]\n",
       "5  [1, 0, 1]  [1, 0, 1, 0, 1]\n",
       "6  [1, 1, 0]  [1, 1, 1, 1, 0]\n",
       "7  [1, 1, 1]  [0, 0, 1, 1, 1]"
      ]
     },
     "execution_count": 294,
     "metadata": {},
     "output_type": "execute_result"
    }
   ],
   "source": [
    "vetoresCodigos2 = gerarVetoresCodigo(G_systematic, messages)\n",
    "vetoresCodigos2"
   ]
  },
  {
   "cell_type": "markdown",
   "id": "1b562aa6",
   "metadata": {},
   "source": [
    "## Matrix Verificadora de Paridade: Exemplo 2.10\n",
    "\n",
    " H, e tem dimensões (n – k) x n"
   ]
  },
  {
   "cell_type": "code",
   "execution_count": 318,
   "id": "cbc6ac58",
   "metadata": {},
   "outputs": [
    {
     "data": {
      "text/plain": [
       "array([[0, 1, 1, 0, 0],\n",
       "       [1, 0, 0, 1, 0],\n",
       "       [1, 1, 0, 0, 1]])"
      ]
     },
     "execution_count": 318,
     "metadata": {},
     "output_type": "execute_result"
    }
   ],
   "source": [
    "G_systematic"
   ]
  },
  {
   "cell_type": "code",
   "execution_count": 457,
   "id": "31d2a389",
   "metadata": {},
   "outputs": [
    {
     "data": {
      "text/plain": [
       "array([1, 0])"
      ]
     },
     "execution_count": 457,
     "metadata": {},
     "output_type": "execute_result"
    }
   ],
   "source": [
    "p"
   ]
  },
  {
   "cell_type": "markdown",
   "id": "a8a3f375",
   "metadata": {},
   "source": [
    "#### Nova identidade"
   ]
  },
  {
   "cell_type": "code",
   "execution_count": 319,
   "id": "76a09867",
   "metadata": {},
   "outputs": [
    {
     "data": {
      "text/plain": [
       "array([[1, 0],\n",
       "       [0, 1]])"
      ]
     },
     "execution_count": 319,
     "metadata": {},
     "output_type": "execute_result"
    }
   ],
   "source": [
    "I2 = np.identity(n-k, dtype=int) # matriz identidade\n",
    "I2.T"
   ]
  },
  {
   "cell_type": "markdown",
   "id": "98d247c1",
   "metadata": {},
   "source": [
    "#### A - Gerando matriz verificadora de paridade H"
   ]
  },
  {
   "cell_type": "code",
   "execution_count": 339,
   "id": "093945ad",
   "metadata": {},
   "outputs": [],
   "source": [
    "def gerarMatrizVerificadoraParidade(I, P):\n",
    "    h_list = []\n",
    "    for index in range(P.T.shape[0]):\n",
    "        h = np.concatenate((I[index], P.T[index]))\n",
    "        h_list.append(h)\n",
    "    \n",
    "    return np.array(h_list)"
   ]
  },
  {
   "cell_type": "code",
   "execution_count": 340,
   "id": "9d909a74",
   "metadata": {},
   "outputs": [
    {
     "data": {
      "text/plain": [
       "array([[1, 0, 0, 1, 1],\n",
       "       [0, 1, 1, 0, 1]])"
      ]
     },
     "execution_count": 340,
     "metadata": {},
     "output_type": "execute_result"
    }
   ],
   "source": [
    "H = gerarMatrizVerificadoraParidade(I2, P_matrix)\n",
    "H"
   ]
  },
  {
   "cell_type": "markdown",
   "id": "5410639e",
   "metadata": {},
   "source": [
    "#### B - Verificar a condição de ortogonalidade para o vetor código correspondente ao vetor mensagem m = 101\n",
    "\n",
    "c = m * G"
   ]
  },
  {
   "cell_type": "code",
   "execution_count": 345,
   "id": "104a950c",
   "metadata": {},
   "outputs": [
    {
     "data": {
      "text/plain": [
       "array([[0, 1, 1, 0, 0],\n",
       "       [1, 0, 0, 1, 0],\n",
       "       [1, 1, 0, 0, 1]])"
      ]
     },
     "execution_count": 345,
     "metadata": {},
     "output_type": "execute_result"
    }
   ],
   "source": [
    "G_systematic"
   ]
  },
  {
   "cell_type": "markdown",
   "id": "b495afb0",
   "metadata": {},
   "source": [
    "#### Vetor código"
   ]
  },
  {
   "cell_type": "code",
   "execution_count": 365,
   "id": "1771017c",
   "metadata": {},
   "outputs": [
    {
     "data": {
      "text/plain": [
       "array([1, 0, 1, 0, 1])"
      ]
     },
     "execution_count": 365,
     "metadata": {},
     "output_type": "execute_result"
    }
   ],
   "source": [
    "m = [1, 0, 1]\n",
    "vetorCodigo_m = gerarVetoresCodigo(G_systematic, np.array([m]))['code'].iloc[0]\n",
    "vetorCodigo_m"
   ]
  },
  {
   "cell_type": "markdown",
   "id": "77351f11",
   "metadata": {},
   "source": [
    "#### Verificar ortogonalidade\n",
    "\n",
    "c * H_transposto"
   ]
  },
  {
   "cell_type": "code",
   "execution_count": 448,
   "id": "2c741271",
   "metadata": {},
   "outputs": [
    {
     "data": {
      "text/plain": [
       "(array([1, 0, 1, 0, 1]),\n",
       " array([[1, 0],\n",
       "        [0, 1],\n",
       "        [0, 1],\n",
       "        [1, 0],\n",
       "        [1, 1]]))"
      ]
     },
     "execution_count": 448,
     "metadata": {},
     "output_type": "execute_result"
    }
   ],
   "source": [
    "vetorCodigo_m, H.T"
   ]
  },
  {
   "cell_type": "code",
   "execution_count": 466,
   "id": "34da615a",
   "metadata": {},
   "outputs": [],
   "source": [
    "def verificarOrtogonalidade(vetor_codigo, matrix_H):\n",
    "    \n",
    "    arr1 = vetor_codigo\n",
    "    arr2 = matrix_H.T\n",
    "\n",
    "    result = np.zeros(arr2.shape[1], dtype=int)  # Initialize result array with zeros\n",
    "\n",
    "    for i in range(len(arr1)):\n",
    "        for j in range(arr2.shape[1]):\n",
    "            result[j] ^= int(arr1[i]) * int(arr2[i, j])\n",
    "\n",
    "    return np.bitwise_xor.reduce(result)"
   ]
  },
  {
   "cell_type": "code",
   "execution_count": 467,
   "id": "fe665c65",
   "metadata": {},
   "outputs": [
    {
     "data": {
      "text/plain": [
       "0"
      ]
     },
     "execution_count": 467,
     "metadata": {},
     "output_type": "execute_result"
    }
   ],
   "source": [
    "verificarOrtogonalidade(vetorCodigo_m, H)"
   ]
  },
  {
   "cell_type": "code",
   "execution_count": 470,
   "id": "8981193c",
   "metadata": {},
   "outputs": [
    {
     "data": {
      "text/plain": [
       "1"
      ]
     },
     "execution_count": 470,
     "metadata": {},
     "output_type": "execute_result"
    }
   ],
   "source": [
    "verificarOrtogonalidade(np.array([1, 1, 1, 0, 1]), H)"
   ]
  },
  {
   "cell_type": "markdown",
   "id": "54feea40",
   "metadata": {},
   "source": [
    "## Distância mínima de um código de bloco linear"
   ]
  },
  {
   "cell_type": "markdown",
   "id": "0b73c34e",
   "metadata": {},
   "source": [
    "#### Matriz geradora exemplo 2.11\n",
    "Matrix geradora código (6, 3) = (n, k)"
   ]
  },
  {
   "cell_type": "code",
   "execution_count": 474,
   "id": "810bb8b3",
   "metadata": {},
   "outputs": [
    {
     "data": {
      "text/plain": [
       "array([[1, 0, 1, 1, 0, 0],\n",
       "       [1, 1, 0, 0, 1, 0],\n",
       "       [0, 1, 1, 0, 0, 1]])"
      ]
     },
     "execution_count": 474,
     "metadata": {},
     "output_type": "execute_result"
    }
   ],
   "source": [
    "G = np.array([\n",
    "    [1, 0, 1, 1, 0, 0],\n",
    "    [1, 1, 0, 0, 1, 0],\n",
    "    [0, 1, 1, 0, 0, 1]\n",
    "])\n",
    "\n",
    "G"
   ]
  },
  {
   "cell_type": "markdown",
   "id": "2f24f372",
   "metadata": {},
   "source": [
    "#### Mensagens"
   ]
  },
  {
   "cell_type": "code",
   "execution_count": 477,
   "id": "94bdd19a",
   "metadata": {},
   "outputs": [
    {
     "data": {
      "text/plain": [
       "[array([0, 0, 0]),\n",
       " array([0, 0, 1]),\n",
       " array([0, 1, 0]),\n",
       " array([0, 1, 1]),\n",
       " array([1, 0, 0]),\n",
       " array([1, 0, 1]),\n",
       " array([1, 1, 0]),\n",
       " array([1, 1, 1])]"
      ]
     },
     "execution_count": 477,
     "metadata": {},
     "output_type": "execute_result"
    }
   ],
   "source": [
    "messages"
   ]
  },
  {
   "cell_type": "markdown",
   "id": "2c82a925",
   "metadata": {},
   "source": [
    "#### Vetores codigo"
   ]
  },
  {
   "cell_type": "code",
   "execution_count": 516,
   "id": "24427e53",
   "metadata": {},
   "outputs": [
    {
     "data": {
      "text/html": [
       "<div>\n",
       "<style scoped>\n",
       "    .dataframe tbody tr th:only-of-type {\n",
       "        vertical-align: middle;\n",
       "    }\n",
       "\n",
       "    .dataframe tbody tr th {\n",
       "        vertical-align: top;\n",
       "    }\n",
       "\n",
       "    .dataframe thead th {\n",
       "        text-align: right;\n",
       "    }\n",
       "</style>\n",
       "<table border=\"1\" class=\"dataframe\">\n",
       "  <thead>\n",
       "    <tr style=\"text-align: right;\">\n",
       "      <th></th>\n",
       "      <th>message</th>\n",
       "      <th>code</th>\n",
       "      <th>weight</th>\n",
       "    </tr>\n",
       "  </thead>\n",
       "  <tbody>\n",
       "    <tr>\n",
       "      <th>0</th>\n",
       "      <td>[0, 0, 0]</td>\n",
       "      <td>[0, 0, 0, 0, 0, 0]</td>\n",
       "      <td>0</td>\n",
       "    </tr>\n",
       "    <tr>\n",
       "      <th>1</th>\n",
       "      <td>[0, 0, 1]</td>\n",
       "      <td>[0, 1, 1, 0, 0, 1]</td>\n",
       "      <td>3</td>\n",
       "    </tr>\n",
       "    <tr>\n",
       "      <th>2</th>\n",
       "      <td>[0, 1, 0]</td>\n",
       "      <td>[1, 1, 0, 0, 1, 0]</td>\n",
       "      <td>3</td>\n",
       "    </tr>\n",
       "    <tr>\n",
       "      <th>3</th>\n",
       "      <td>[0, 1, 1]</td>\n",
       "      <td>[1, 0, 1, 0, 1, 1]</td>\n",
       "      <td>4</td>\n",
       "    </tr>\n",
       "    <tr>\n",
       "      <th>4</th>\n",
       "      <td>[1, 0, 0]</td>\n",
       "      <td>[1, 0, 1, 1, 0, 0]</td>\n",
       "      <td>3</td>\n",
       "    </tr>\n",
       "    <tr>\n",
       "      <th>5</th>\n",
       "      <td>[1, 0, 1]</td>\n",
       "      <td>[1, 1, 0, 1, 0, 1]</td>\n",
       "      <td>4</td>\n",
       "    </tr>\n",
       "    <tr>\n",
       "      <th>6</th>\n",
       "      <td>[1, 1, 0]</td>\n",
       "      <td>[0, 1, 1, 1, 1, 0]</td>\n",
       "      <td>4</td>\n",
       "    </tr>\n",
       "    <tr>\n",
       "      <th>7</th>\n",
       "      <td>[1, 1, 1]</td>\n",
       "      <td>[0, 0, 0, 1, 1, 1]</td>\n",
       "      <td>3</td>\n",
       "    </tr>\n",
       "  </tbody>\n",
       "</table>\n",
       "</div>"
      ],
      "text/plain": [
       "     message                code  weight\n",
       "0  [0, 0, 0]  [0, 0, 0, 0, 0, 0]       0\n",
       "1  [0, 0, 1]  [0, 1, 1, 0, 0, 1]       3\n",
       "2  [0, 1, 0]  [1, 1, 0, 0, 1, 0]       3\n",
       "3  [0, 1, 1]  [1, 0, 1, 0, 1, 1]       4\n",
       "4  [1, 0, 0]  [1, 0, 1, 1, 0, 0]       3\n",
       "5  [1, 0, 1]  [1, 1, 0, 1, 0, 1]       4\n",
       "6  [1, 1, 0]  [0, 1, 1, 1, 1, 0]       4\n",
       "7  [1, 1, 1]  [0, 0, 0, 1, 1, 1]       3"
      ]
     },
     "metadata": {},
     "output_type": "display_data"
    },
    {
     "name": "stdout",
     "output_type": "stream",
     "text": [
      "Distância mínima = 3\n"
     ]
    }
   ],
   "source": [
    "df_distancia = gerarVetoresCodigo(G, messages)\n",
    "df_distancia['weight'] = df_distancia['code'].apply(lambda x: np.count_nonzero(x))\n",
    "\n",
    "weight_list = df_distancia.weight.sort_values().to_list()\n",
    "dmin = min([x for x in weight_list if x != 0], default=0)\n",
    "dmin\n",
    "\n",
    "display(df_distancia)\n",
    "print(f\"Distância mínima = {dmin}\")"
   ]
  },
  {
   "cell_type": "markdown",
   "id": "0ea3e0bc",
   "metadata": {},
   "source": [
    "### Exemplo 2.11 slide 75"
   ]
  },
  {
   "cell_type": "code",
   "execution_count": 502,
   "id": "01257c01",
   "metadata": {},
   "outputs": [
    {
     "data": {
      "text/plain": [
       "array([[1, 0, 1, 1, 0, 0],\n",
       "       [1, 1, 0, 0, 1, 0],\n",
       "       [0, 1, 1, 0, 0, 1]])"
      ]
     },
     "execution_count": 502,
     "metadata": {},
     "output_type": "execute_result"
    }
   ],
   "source": [
    "# Matriz geradora já sistematizada\n",
    "G"
   ]
  },
  {
   "cell_type": "code",
   "execution_count": 503,
   "id": "66a2faa2",
   "metadata": {},
   "outputs": [
    {
     "data": {
      "text/plain": [
       "array([[1, 0, 1],\n",
       "       [1, 1, 0],\n",
       "       [0, 1, 1]])"
      ]
     },
     "execution_count": 503,
     "metadata": {},
     "output_type": "execute_result"
    }
   ],
   "source": [
    "# Matrix de paridade\n",
    "P_matrix = G[:, :3]\n",
    "P_matrix"
   ]
  },
  {
   "cell_type": "code",
   "execution_count": 510,
   "id": "041d7501",
   "metadata": {},
   "outputs": [
    {
     "data": {
      "text/plain": [
       "array([[1, 0, 0],\n",
       "       [0, 1, 0],\n",
       "       [0, 0, 1]])"
      ]
     },
     "execution_count": 510,
     "metadata": {},
     "output_type": "execute_result"
    }
   ],
   "source": [
    "# Matriz identidade\n",
    "n = G.shape[1]\n",
    "k = G.shape[0]\n",
    "I3 = np.identity(n-k, dtype=int) # matriz identidade\n",
    "I3"
   ]
  },
  {
   "cell_type": "code",
   "execution_count": 511,
   "id": "3ed54629",
   "metadata": {},
   "outputs": [
    {
     "data": {
      "text/plain": [
       "array([[1, 0, 0, 1, 1, 0],\n",
       "       [0, 1, 0, 0, 1, 1],\n",
       "       [0, 0, 1, 1, 0, 1]])"
      ]
     },
     "execution_count": 511,
     "metadata": {},
     "output_type": "execute_result"
    }
   ],
   "source": [
    "H = gerarMatrizVerificadoraParidade(I3, P_matrix)\n",
    "H"
   ]
  },
  {
   "cell_type": "code",
   "execution_count": 517,
   "id": "5ad98125",
   "metadata": {},
   "outputs": [
    {
     "name": "stdout",
     "output_type": "stream",
     "text": [
      "A notação usada com distância mínima deve ser (n, k, dmin) = (6, 3, 3)\n"
     ]
    }
   ],
   "source": [
    "print(f\"A notação usada com distância mínima deve ser (n, k, dmin) = ({n}, {k}, {dmin})\")"
   ]
  },
  {
   "cell_type": "markdown",
   "id": "da514357",
   "metadata": {},
   "source": [
    "### Capacidade de correção e de detecção de erros e um código de bloco linear"
   ]
  },
  {
   "cell_type": "code",
   "execution_count": 528,
   "id": "5d30be12",
   "metadata": {},
   "outputs": [
    {
     "name": "stdout",
     "output_type": "stream",
     "text": [
      "O código (6, 3, 3) é capaz de corrigir todos os padrões de 1.0 bit errado.\n",
      "Se houver mais de 1.0 erros o código não irá corrigir.\n",
      "A capacidade mínima de detectar é de 2 erros detectados.\n"
     ]
    }
   ],
   "source": [
    "t = (dmin -1) / 2\n",
    "e = dmin - 1\n",
    "print(f\"O código ({n}, {k}, {dmin}) é capaz de corrigir todos os padrões de {t} bit errado.\\nSe houver mais de {t} erros o código não irá corrigir.\")\n",
    "print(f\"A capacidade mínima de detectar é de {e} erros detectados.\")"
   ]
  },
  {
   "cell_type": "markdown",
   "id": "96a2e63f",
   "metadata": {},
   "source": [
    "## Síndrome de Erro"
   ]
  },
  {
   "cell_type": "markdown",
   "id": "14ab0403",
   "metadata": {},
   "source": [
    "#### Matriz geradora em forma sistemática"
   ]
  },
  {
   "cell_type": "code",
   "execution_count": 553,
   "id": "409b8f9c",
   "metadata": {},
   "outputs": [
    {
     "data": {
      "text/plain": [
       "array([[1, 0, 1, 1, 0, 0],\n",
       "       [1, 1, 0, 0, 1, 0],\n",
       "       [0, 1, 1, 0, 0, 1]])"
      ]
     },
     "execution_count": 553,
     "metadata": {},
     "output_type": "execute_result"
    }
   ],
   "source": [
    "G"
   ]
  },
  {
   "cell_type": "markdown",
   "id": "a14a5ad5",
   "metadata": {},
   "source": [
    "#### a)Determinar a capacidade de correção de erros do código."
   ]
  },
  {
   "cell_type": "code",
   "execution_count": 554,
   "id": "d4c023a6",
   "metadata": {},
   "outputs": [
    {
     "name": "stdout",
     "output_type": "stream",
     "text": [
      "O código (6, 3, 3) é capaz de corrigir todos os padrões de 1.0 bit errado.\n",
      "Se houver mais de 1.0 erros o código não irá corrigir.\n",
      "A capacidade mínima de detectar é de 2 erros detectados.\n"
     ]
    }
   ],
   "source": [
    "print(f\"O código ({n}, {k}, {dmin}) é capaz de corrigir todos os padrões de {t} bit errado.\\nSe houver mais de {t} erros o código não irá corrigir.\")\n",
    "print(f\"A capacidade mínima de detectar é de {e} erros detectados.\")"
   ]
  },
  {
   "cell_type": "markdown",
   "id": "2f453c2b",
   "metadata": {},
   "source": [
    "#### b)Listar todos os padrões de erros corrigíveis dentro da capacidade de correção de erros do código."
   ]
  },
  {
   "cell_type": "code",
   "execution_count": 569,
   "id": "f8ab5250",
   "metadata": {},
   "outputs": [],
   "source": [
    "# hardcoded mas por hora funciona\n",
    "def listarErros(n):\n",
    "    matrix = np.eye(n, dtype=int)\n",
    "    return np.flip(matrix, axis=1)"
   ]
  },
  {
   "cell_type": "code",
   "execution_count": 573,
   "id": "ec98819d",
   "metadata": {},
   "outputs": [
    {
     "data": {
      "text/plain": [
       "array([[0, 0, 0, 0, 0, 1],\n",
       "       [0, 0, 0, 0, 1, 0],\n",
       "       [0, 0, 0, 1, 0, 0],\n",
       "       [0, 0, 1, 0, 0, 0],\n",
       "       [0, 1, 0, 0, 0, 0],\n",
       "       [1, 0, 0, 0, 0, 0]])"
      ]
     },
     "execution_count": 573,
     "metadata": {},
     "output_type": "execute_result"
    }
   ],
   "source": [
    "e = listarErros(n)\n",
    "e"
   ]
  },
  {
   "cell_type": "markdown",
   "id": "57f6cd50",
   "metadata": {},
   "source": [
    "#### c)Listar todas as síndromes de erros associadas aos padrões de erros corrigíveis dentro da capacidade de correção de erros do código."
   ]
  },
  {
   "cell_type": "code",
   "execution_count": 572,
   "id": "094f28a3",
   "metadata": {},
   "outputs": [
    {
     "data": {
      "text/plain": [
       "array([[1, 0, 0],\n",
       "       [0, 1, 0],\n",
       "       [0, 0, 1],\n",
       "       [1, 0, 1],\n",
       "       [1, 1, 0],\n",
       "       [0, 1, 1]])"
      ]
     },
     "execution_count": 572,
     "metadata": {},
     "output_type": "execute_result"
    }
   ],
   "source": [
    "H.T"
   ]
  },
  {
   "cell_type": "code",
   "execution_count": 575,
   "id": "5ad33a10",
   "metadata": {},
   "outputs": [
    {
     "data": {
      "text/html": [
       "<div>\n",
       "<style scoped>\n",
       "    .dataframe tbody tr th:only-of-type {\n",
       "        vertical-align: middle;\n",
       "    }\n",
       "\n",
       "    .dataframe tbody tr th {\n",
       "        vertical-align: top;\n",
       "    }\n",
       "\n",
       "    .dataframe thead th {\n",
       "        text-align: right;\n",
       "    }\n",
       "</style>\n",
       "<table border=\"1\" class=\"dataframe\">\n",
       "  <thead>\n",
       "    <tr style=\"text-align: right;\">\n",
       "      <th></th>\n",
       "      <th>message</th>\n",
       "      <th>code</th>\n",
       "    </tr>\n",
       "  </thead>\n",
       "  <tbody>\n",
       "    <tr>\n",
       "      <th>0</th>\n",
       "      <td>[0, 0, 0, 0, 0, 1]</td>\n",
       "      <td>[0, 1, 1]</td>\n",
       "    </tr>\n",
       "    <tr>\n",
       "      <th>1</th>\n",
       "      <td>[0, 0, 0, 0, 1, 0]</td>\n",
       "      <td>[1, 1, 0]</td>\n",
       "    </tr>\n",
       "    <tr>\n",
       "      <th>2</th>\n",
       "      <td>[0, 0, 0, 1, 0, 0]</td>\n",
       "      <td>[1, 0, 1]</td>\n",
       "    </tr>\n",
       "    <tr>\n",
       "      <th>3</th>\n",
       "      <td>[0, 0, 1, 0, 0, 0]</td>\n",
       "      <td>[0, 0, 1]</td>\n",
       "    </tr>\n",
       "    <tr>\n",
       "      <th>4</th>\n",
       "      <td>[0, 1, 0, 0, 0, 0]</td>\n",
       "      <td>[0, 1, 0]</td>\n",
       "    </tr>\n",
       "    <tr>\n",
       "      <th>5</th>\n",
       "      <td>[1, 0, 0, 0, 0, 0]</td>\n",
       "      <td>[1, 0, 0]</td>\n",
       "    </tr>\n",
       "  </tbody>\n",
       "</table>\n",
       "</div>"
      ],
      "text/plain": [
       "              message       code\n",
       "0  [0, 0, 0, 0, 0, 1]  [0, 1, 1]\n",
       "1  [0, 0, 0, 0, 1, 0]  [1, 1, 0]\n",
       "2  [0, 0, 0, 1, 0, 0]  [1, 0, 1]\n",
       "3  [0, 0, 1, 0, 0, 0]  [0, 0, 1]\n",
       "4  [0, 1, 0, 0, 0, 0]  [0, 1, 0]\n",
       "5  [1, 0, 0, 0, 0, 0]  [1, 0, 0]"
      ]
     },
     "execution_count": 575,
     "metadata": {},
     "output_type": "execute_result"
    }
   ],
   "source": [
    "S = gerarVetoresCodigo(H.T, e)\n",
    "S"
   ]
  },
  {
   "cell_type": "code",
   "execution_count": 576,
   "id": "b3f60e1b",
   "metadata": {},
   "outputs": [],
   "source": [
    "# Padrões de erros corrigíveis e suas respectivas síndromes para o código de bloco linear (6, 3, 3), dados pela matriz G"
   ]
  },
  {
   "cell_type": "markdown",
   "id": "577b7389",
   "metadata": {},
   "source": [
    "### Correção de erros pela Síndrome - Exemplo 2.13"
   ]
  },
  {
   "cell_type": "code",
   "execution_count": 577,
   "id": "aa66d69e",
   "metadata": {},
   "outputs": [],
   "source": [
    "# Faltam duas gravações"
   ]
  },
  {
   "cell_type": "code",
   "execution_count": null,
   "id": "5f05f9e9",
   "metadata": {},
   "outputs": [],
   "source": []
  },
  {
   "cell_type": "code",
   "execution_count": null,
   "id": "e62c2c58",
   "metadata": {},
   "outputs": [],
   "source": []
  },
  {
   "cell_type": "markdown",
   "id": "70b6dea2",
   "metadata": {},
   "source": [
    "## PLAYGROUND E ASSUNTOS BIZARROS"
   ]
  },
  {
   "cell_type": "code",
   "execution_count": 292,
   "id": "b7e68f6d",
   "metadata": {},
   "outputs": [
    {
     "data": {
      "text/html": [
       "<div>\n",
       "<style scoped>\n",
       "    .dataframe tbody tr th:only-of-type {\n",
       "        vertical-align: middle;\n",
       "    }\n",
       "\n",
       "    .dataframe tbody tr th {\n",
       "        vertical-align: top;\n",
       "    }\n",
       "\n",
       "    .dataframe thead th {\n",
       "        text-align: right;\n",
       "    }\n",
       "</style>\n",
       "<table border=\"1\" class=\"dataframe\">\n",
       "  <thead>\n",
       "    <tr style=\"text-align: right;\">\n",
       "      <th></th>\n",
       "      <th>message</th>\n",
       "      <th>code</th>\n",
       "    </tr>\n",
       "  </thead>\n",
       "  <tbody>\n",
       "    <tr>\n",
       "      <th>0</th>\n",
       "      <td>[0, 0, 0]</td>\n",
       "      <td>[0, 0, 0, 0, 0]</td>\n",
       "    </tr>\n",
       "    <tr>\n",
       "      <th>1</th>\n",
       "      <td>[0, 0, 1]</td>\n",
       "      <td>[0, 1, 1, 0, 0]</td>\n",
       "    </tr>\n",
       "    <tr>\n",
       "      <th>2</th>\n",
       "      <td>[0, 1, 0]</td>\n",
       "      <td>[1, 0, 0, 1, 0]</td>\n",
       "    </tr>\n",
       "    <tr>\n",
       "      <th>3</th>\n",
       "      <td>[0, 1, 1]</td>\n",
       "      <td>[1, 1, 1, 1, 0]</td>\n",
       "    </tr>\n",
       "    <tr>\n",
       "      <th>4</th>\n",
       "      <td>[1, 0, 0]</td>\n",
       "      <td>[0, 1, 0, 1, 1]</td>\n",
       "    </tr>\n",
       "    <tr>\n",
       "      <th>5</th>\n",
       "      <td>[1, 0, 1]</td>\n",
       "      <td>[0, 0, 1, 1, 1]</td>\n",
       "    </tr>\n",
       "    <tr>\n",
       "      <th>6</th>\n",
       "      <td>[1, 1, 0]</td>\n",
       "      <td>[1, 1, 0, 0, 1]</td>\n",
       "    </tr>\n",
       "    <tr>\n",
       "      <th>7</th>\n",
       "      <td>[1, 1, 1]</td>\n",
       "      <td>[1, 0, 1, 0, 1]</td>\n",
       "    </tr>\n",
       "  </tbody>\n",
       "</table>\n",
       "</div>"
      ],
      "text/plain": [
       "     message             code\n",
       "0  [0, 0, 0]  [0, 0, 0, 0, 0]\n",
       "1  [0, 0, 1]  [0, 1, 1, 0, 0]\n",
       "2  [0, 1, 0]  [1, 0, 0, 1, 0]\n",
       "3  [0, 1, 1]  [1, 1, 1, 1, 0]\n",
       "4  [1, 0, 0]  [0, 1, 0, 1, 1]\n",
       "5  [1, 0, 1]  [0, 0, 1, 1, 1]\n",
       "6  [1, 1, 0]  [1, 1, 0, 0, 1]\n",
       "7  [1, 1, 1]  [1, 0, 1, 0, 1]"
      ]
     },
     "execution_count": 292,
     "metadata": {},
     "output_type": "execute_result"
    }
   ],
   "source": [
    "codes = []\n",
    "for message in messages:\n",
    "    mult = (message * G.T).T\n",
    "    code = np.bitwise_xor.reduce(mult, axis=0)\n",
    "#     decoded = np.roll(code, 1)[:3]\n",
    "#     isCorrectDecoded = (np.array_equal(np.array(message), np.array(decoded)))\n",
    "    dict_code = {\n",
    "        \"message\": message,\n",
    "        \"code\": code,\n",
    "#         \"isDecoded\": isCorrectDecoded\n",
    "    }\n",
    "    codes.append(dict_code)\n",
    "        \n",
    "df = pd.DataFrame(codes)\n",
    "df"
   ]
  },
  {
   "cell_type": "code",
   "execution_count": 409,
   "id": "5b3e6de6",
   "metadata": {},
   "outputs": [
    {
     "name": "stdout",
     "output_type": "stream",
     "text": [
      "[0 0]\n"
     ]
    }
   ],
   "source": [
    "arr1 = np.array([1, 0, 1, 0, 1])\n",
    "arr2 = np.array([[1, 0],\n",
    "                 [0, 1],\n",
    "                 [0, 1],\n",
    "                 [1, 0],\n",
    "                 [1, 1]])\n",
    "\n",
    "result = np.zeros(arr2.shape[1], dtype=int)  # Initialize result array with zeros\n",
    "\n",
    "for i in range(len(arr1)):\n",
    "    for j in range(arr2.shape[1]):\n",
    "        result[j] ^= int(arr1[i]) * int(arr2[i, j])\n",
    "\n",
    "print(result)"
   ]
  },
  {
   "cell_type": "code",
   "execution_count": 562,
   "id": "4670aebb",
   "metadata": {},
   "outputs": [
    {
     "name": "stdout",
     "output_type": "stream",
     "text": [
      "[[0 0 0 0 0 1]\n",
      " [0 0 0 0 1 0]\n",
      " [0 0 0 1 0 0]\n",
      " [0 0 1 0 0 0]\n",
      " [0 1 0 0 0 0]\n",
      " [1 0 0 0 0 0]]\n"
     ]
    }
   ],
   "source": [
    "# Define the size of the desired matrix\n",
    "size = 6\n",
    "\n",
    "# Create a diagonal matrix with ones along the main diagonal\n",
    "matrix = np.eye(size, dtype=int)\n",
    "\n",
    "# Reverse the matrix to get the desired pattern\n",
    "result = np.flip(matrix, axis=1)\n",
    "\n",
    "print(result)"
   ]
  },
  {
   "cell_type": "code",
   "execution_count": 563,
   "id": "45e72a28",
   "metadata": {},
   "outputs": [
    {
     "name": "stdout",
     "output_type": "stream",
     "text": [
      "[[0 0 0 0 0 1]\n",
      " [0 0 0 0 1 0]\n",
      " [0 0 0 1 0 0]\n",
      " [0 0 1 0 0 0]\n",
      " [0 1 0 0 0 0]\n",
      " [1 0 0 0 0 0]]\n"
     ]
    }
   ],
   "source": [
    "# Create a matrix of zeros\n",
    "result = np.zeros((size, size), dtype=int)\n",
    "\n",
    "# Set the diagonal elements to 1\n",
    "for i in range(size):\n",
    "    result[i, size-i-1] = 1\n",
    "\n",
    "print(result)"
   ]
  },
  {
   "cell_type": "code",
   "execution_count": null,
   "id": "2da92859",
   "metadata": {},
   "outputs": [],
   "source": []
  }
 ],
 "metadata": {
  "kernelspec": {
   "display_name": "Python 3 (ipykernel)",
   "language": "python",
   "name": "python3"
  },
  "language_info": {
   "codemirror_mode": {
    "name": "ipython",
    "version": 3
   },
   "file_extension": ".py",
   "mimetype": "text/x-python",
   "name": "python",
   "nbconvert_exporter": "python",
   "pygments_lexer": "ipython3",
   "version": "3.9.12"
  }
 },
 "nbformat": 4,
 "nbformat_minor": 5
}
