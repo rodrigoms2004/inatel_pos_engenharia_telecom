{
 "cells": [
  {
   "cell_type": "markdown",
   "id": "f34aa986",
   "metadata": {},
   "source": [
    "# RT001_Introdução à Teoria da Informação Codificação de Fonte e Canal"
   ]
  },
  {
   "cell_type": "markdown",
   "id": "51d11907",
   "metadata": {},
   "source": [
    "## Libraries"
   ]
  },
  {
   "cell_type": "code",
   "execution_count": 255,
   "id": "9dbcc7e6",
   "metadata": {},
   "outputs": [],
   "source": [
    "import pandas as pd\n",
    "import numpy as np\n",
    "import math\n",
    "from itertools import product, combinations\n",
    "\n",
    "# import laguide as lag"
   ]
  },
  {
   "cell_type": "markdown",
   "id": "27fce693",
   "metadata": {},
   "source": [
    "### Sinal e probabilidades"
   ]
  },
  {
   "cell_type": "code",
   "execution_count": 3,
   "id": "7c481052",
   "metadata": {},
   "outputs": [],
   "source": [
    "# S0, S1 e S2 -> A, I e W\n",
    "s = ['000', '100', '111']\n",
    "p = [0.5, 0.3, 0.2]"
   ]
  },
  {
   "cell_type": "markdown",
   "id": "36482dc4",
   "metadata": {},
   "source": [
    "### Decodificador"
   ]
  },
  {
   "cell_type": "code",
   "execution_count": 4,
   "id": "bc09ed22",
   "metadata": {},
   "outputs": [
    {
     "data": {
      "text/plain": [
       "1.0"
      ]
     },
     "execution_count": 4,
     "metadata": {},
     "output_type": "execute_result"
    }
   ],
   "source": [
    "math.log2(2)"
   ]
  },
  {
   "cell_type": "markdown",
   "id": "9ba49747",
   "metadata": {},
   "source": [
    "### huffman algorithm python"
   ]
  },
  {
   "cell_type": "code",
   "execution_count": 8,
   "id": "7bed4fd4",
   "metadata": {},
   "outputs": [],
   "source": [
    "# https://www.programiz.com/dsa/huffman-coding"
   ]
  },
  {
   "cell_type": "markdown",
   "id": "6a2b77f8",
   "metadata": {},
   "source": [
    "### Exercicio 1"
   ]
  },
  {
   "cell_type": "code",
   "execution_count": 9,
   "id": "54663390",
   "metadata": {},
   "outputs": [],
   "source": [
    "# S0, S1, S2, S3, S4\n",
    "prob = [0.1, 0.25, 0.40, 0.20, 0.05]"
   ]
  },
  {
   "cell_type": "code",
   "execution_count": 10,
   "id": "9930bdbf",
   "metadata": {},
   "outputs": [],
   "source": [
    "def entropiaFonte(prob):\n",
    "    return sum([prob[indice] * math.log2(1.0/prob[indice]) for indice in range(len(prob))])"
   ]
  },
  {
   "cell_type": "code",
   "execution_count": 11,
   "id": "f37f3dac",
   "metadata": {},
   "outputs": [
    {
     "name": "stdout",
     "output_type": "stream",
     "text": [
      "2.041446071165522\n"
     ]
    }
   ],
   "source": [
    "H = entropiaFonte(prob)\n",
    "print (H)"
   ]
  },
  {
   "cell_type": "code",
   "execution_count": 12,
   "id": "d6ac7ad5",
   "metadata": {},
   "outputs": [],
   "source": [
    "# S0, S1, S2, S3, S4\n",
    "palavrasCodigos = ['0010', '01', '1', '000', '0011']"
   ]
  },
  {
   "cell_type": "code",
   "execution_count": 13,
   "id": "6c173ed6",
   "metadata": {},
   "outputs": [],
   "source": [
    "def comprimentoMedio(listaPalavras, prob):\n",
    "    tamanhoPalavra = [len(palavra) for palavra in listaPalavras]\n",
    "    return sum([tamanhoPalavra[indice] * prob[indice] for indice in range(len(tamanhoPalavra))])"
   ]
  },
  {
   "cell_type": "code",
   "execution_count": 14,
   "id": "8502e090",
   "metadata": {},
   "outputs": [
    {
     "name": "stdout",
     "output_type": "stream",
     "text": [
      "2.1\n"
     ]
    }
   ],
   "source": [
    "L = comprimentoMedio(palavrasCodigos, prob)\n",
    "print(L)"
   ]
  },
  {
   "cell_type": "code",
   "execution_count": 15,
   "id": "983c0801",
   "metadata": {},
   "outputs": [
    {
     "name": "stdout",
     "output_type": "stream",
     "text": [
      "0.9721171767454866\n"
     ]
    }
   ],
   "source": [
    "Eficiencia = H/L\n",
    "print(Eficiencia)"
   ]
  },
  {
   "cell_type": "code",
   "execution_count": 16,
   "id": "656f78bc",
   "metadata": {},
   "outputs": [
    {
     "name": "stdout",
     "output_type": "stream",
     "text": [
      "A eficiencia desta bagaça é de 97.2117 %\n"
     ]
    }
   ],
   "source": [
    "print(f\"A eficiencia desta bagaça é de {Eficiencia*100:.4f} %\")"
   ]
  },
  {
   "cell_type": "markdown",
   "id": "bfd2ce76",
   "metadata": {},
   "source": [
    "## Subespaço vetorial\n",
    "\n",
    "https://bvanderlei.github.io/jupyter-guide-to-linear-algebra/Linear_Independence.html\n",
    "\n",
    "Preciso entender isso ainda..."
   ]
  },
  {
   "cell_type": "code",
   "execution_count": 17,
   "id": "25f9cbfb",
   "metadata": {},
   "outputs": [],
   "source": [
    "S = [[0, 0, 0, 0, 0],\n",
    "    [0, 1, 0, 1, 1],\n",
    "    [1, 0, 0, 1, 0],\n",
    "    [1, 1, 0, 0, 1],\n",
    "    [0, 1, 1, 0, 0],\n",
    "    [0, 0, 1, 1, 1],\n",
    "    [1, 1, 1, 1, 0],\n",
    "    [1, 0, 1, 0, 1]]"
   ]
  },
  {
   "cell_type": "code",
   "execution_count": 18,
   "id": "45b43023",
   "metadata": {},
   "outputs": [
    {
     "data": {
      "text/plain": [
       "array([[0, 0, 0, 0, 0],\n",
       "       [0, 1, 0, 1, 1],\n",
       "       [1, 0, 0, 1, 0],\n",
       "       [1, 1, 0, 0, 1],\n",
       "       [0, 1, 1, 0, 0],\n",
       "       [0, 0, 1, 1, 1],\n",
       "       [1, 1, 1, 1, 0],\n",
       "       [1, 0, 1, 0, 1]])"
      ]
     },
     "execution_count": 18,
     "metadata": {},
     "output_type": "execute_result"
    }
   ],
   "source": [
    "S_augmented = np.array(S)\n",
    "S_augmented"
   ]
  },
  {
   "cell_type": "code",
   "execution_count": 19,
   "id": "f7fcd861",
   "metadata": {},
   "outputs": [
    {
     "data": {
      "text/plain": [
       "(array([[-0.89442719, -0.4472136 ],\n",
       "        [-0.4472136 ,  0.89442719]]),\n",
       " array([[-2.23606798,  1.78885438,  0.        ],\n",
       "        [ 0.        , -5.81377674,  0.        ]]))"
      ]
     },
     "execution_count": 19,
     "metadata": {},
     "output_type": "execute_result"
    }
   ],
   "source": [
    "A_augmented = np.array([[2,1,0],[1,-6,0]])\n",
    "# print(lag.FullRowReduction(A_augmented))\n",
    "\n",
    "np.linalg.qr(A_augmented, 'complete')"
   ]
  },
  {
   "cell_type": "code",
   "execution_count": 20,
   "id": "988922f4",
   "metadata": {},
   "outputs": [],
   "source": [
    "ref, pivots = np.linalg.qr(S_augmented, 'complete')"
   ]
  },
  {
   "cell_type": "markdown",
   "id": "0824c934",
   "metadata": {},
   "source": [
    "## Matrix Geradora"
   ]
  },
  {
   "cell_type": "markdown",
   "id": "6af32821",
   "metadata": {},
   "source": [
    "### Array de mensagens \n",
    "\n",
    "De 000 a 111"
   ]
  },
  {
   "cell_type": "code",
   "execution_count": 256,
   "id": "4fa096b3",
   "metadata": {},
   "outputs": [
    {
     "data": {
      "text/plain": [
       "[array([0, 0, 0]),\n",
       " array([0, 0, 1]),\n",
       " array([0, 1, 0]),\n",
       " array([0, 1, 1]),\n",
       " array([1, 0, 0]),\n",
       " array([1, 0, 1]),\n",
       " array([1, 1, 0]),\n",
       " array([1, 1, 1])]"
      ]
     },
     "execution_count": 256,
     "metadata": {},
     "output_type": "execute_result"
    }
   ],
   "source": [
    "# Generate all binary combinations\n",
    "combinationsOfMessages = product([0, 1], repeat=3)\n",
    "\n",
    "# Convert each combination to a NumPy array\n",
    "messages = [np.array(combination) for combination in combinationsOfMessages]\n",
    "messages"
   ]
  },
  {
   "cell_type": "markdown",
   "id": "c9621bd9",
   "metadata": {},
   "source": [
    "### Matriz Geradora Exemplo 2.8 slide 61\n",
    "\n",
    "Utilza os vetores da base"
   ]
  },
  {
   "cell_type": "code",
   "execution_count": 257,
   "id": "6f9c6e95",
   "metadata": {},
   "outputs": [],
   "source": [
    "G = np.array([\n",
    "    [0, 1, 0, 1, 1],\n",
    "    [1, 0, 0, 1, 0],\n",
    "    [0, 1, 1, 0, 0]\n",
    "])\n",
    "\n",
    "# message = np.array([1, 0, 0])"
   ]
  },
  {
   "cell_type": "code",
   "execution_count": 293,
   "id": "4272ad39",
   "metadata": {},
   "outputs": [],
   "source": [
    "def gerarVetoresCodigo(M_G, M_Messages):\n",
    "    codes = []\n",
    "    for message in M_Messages:\n",
    "        mult = (message * M_G.T).T\n",
    "        code = np.bitwise_xor.reduce(mult, axis=0)\n",
    "        dict_code = {\n",
    "            \"message\": message,\n",
    "            \"code\": code\n",
    "        }\n",
    "        codes.append(dict_code)\n",
    "    return pd.DataFrame(codes)"
   ]
  },
  {
   "cell_type": "code",
   "execution_count": 291,
   "id": "f209025d",
   "metadata": {},
   "outputs": [
    {
     "data": {
      "text/html": [
       "<div>\n",
       "<style scoped>\n",
       "    .dataframe tbody tr th:only-of-type {\n",
       "        vertical-align: middle;\n",
       "    }\n",
       "\n",
       "    .dataframe tbody tr th {\n",
       "        vertical-align: top;\n",
       "    }\n",
       "\n",
       "    .dataframe thead th {\n",
       "        text-align: right;\n",
       "    }\n",
       "</style>\n",
       "<table border=\"1\" class=\"dataframe\">\n",
       "  <thead>\n",
       "    <tr style=\"text-align: right;\">\n",
       "      <th></th>\n",
       "      <th>message</th>\n",
       "      <th>code</th>\n",
       "    </tr>\n",
       "  </thead>\n",
       "  <tbody>\n",
       "    <tr>\n",
       "      <th>0</th>\n",
       "      <td>[0, 0, 0]</td>\n",
       "      <td>[0, 0, 0, 0, 0]</td>\n",
       "    </tr>\n",
       "    <tr>\n",
       "      <th>1</th>\n",
       "      <td>[0, 0, 1]</td>\n",
       "      <td>[0, 1, 1, 0, 0]</td>\n",
       "    </tr>\n",
       "    <tr>\n",
       "      <th>2</th>\n",
       "      <td>[0, 1, 0]</td>\n",
       "      <td>[1, 0, 0, 1, 0]</td>\n",
       "    </tr>\n",
       "    <tr>\n",
       "      <th>3</th>\n",
       "      <td>[0, 1, 1]</td>\n",
       "      <td>[1, 1, 1, 1, 0]</td>\n",
       "    </tr>\n",
       "    <tr>\n",
       "      <th>4</th>\n",
       "      <td>[1, 0, 0]</td>\n",
       "      <td>[0, 1, 0, 1, 1]</td>\n",
       "    </tr>\n",
       "    <tr>\n",
       "      <th>5</th>\n",
       "      <td>[1, 0, 1]</td>\n",
       "      <td>[0, 0, 1, 1, 1]</td>\n",
       "    </tr>\n",
       "    <tr>\n",
       "      <th>6</th>\n",
       "      <td>[1, 1, 0]</td>\n",
       "      <td>[1, 1, 0, 0, 1]</td>\n",
       "    </tr>\n",
       "    <tr>\n",
       "      <th>7</th>\n",
       "      <td>[1, 1, 1]</td>\n",
       "      <td>[1, 0, 1, 0, 1]</td>\n",
       "    </tr>\n",
       "  </tbody>\n",
       "</table>\n",
       "</div>"
      ],
      "text/plain": [
       "     message             code\n",
       "0  [0, 0, 0]  [0, 0, 0, 0, 0]\n",
       "1  [0, 0, 1]  [0, 1, 1, 0, 0]\n",
       "2  [0, 1, 0]  [1, 0, 0, 1, 0]\n",
       "3  [0, 1, 1]  [1, 1, 1, 1, 0]\n",
       "4  [1, 0, 0]  [0, 1, 0, 1, 1]\n",
       "5  [1, 0, 1]  [0, 0, 1, 1, 1]\n",
       "6  [1, 1, 0]  [1, 1, 0, 0, 1]\n",
       "7  [1, 1, 1]  [1, 0, 1, 0, 1]"
      ]
     },
     "execution_count": 291,
     "metadata": {},
     "output_type": "execute_result"
    }
   ],
   "source": [
    "vetoresCodigos = gerarVetoresCodigo(G, messages)\n",
    "vetoresCodigos"
   ]
  },
  {
   "cell_type": "code",
   "execution_count": null,
   "id": "e125587d",
   "metadata": {
    "scrolled": true
   },
   "outputs": [],
   "source": []
  },
  {
   "cell_type": "markdown",
   "id": "672380e4",
   "metadata": {},
   "source": [
    "### Matriz geradora: Exemplo 2.9\n",
    "\n",
    "Separar o código da paridade"
   ]
  },
  {
   "cell_type": "code",
   "execution_count": 259,
   "id": "d4dbfa8e",
   "metadata": {},
   "outputs": [
    {
     "name": "stdout",
     "output_type": "stream",
     "text": [
      "Matriz geradora:\n",
      "[[0 1 0 1 1]\n",
      " [1 0 0 1 0]\n",
      " [0 1 1 0 0]]\n",
      "\n",
      "k=3 linhas por n=5 colunas\n",
      "\n",
      "Matriz identidade:\n",
      "[[1 0 0]\n",
      " [0 1 0]\n",
      " [0 0 1]]\n"
     ]
    }
   ],
   "source": [
    "k = np.size(G, axis=0)\n",
    "n = np.size(G, axis=1)\n",
    "I = np.identity(3, dtype=int) # matriz identidade\n",
    "\n",
    "print(f\"Matriz geradora:\\n{G}\")\n",
    "print(f\"\\nk={k} linhas por n={n} colunas\\n\")\n",
    "print(f\"Matriz identidade:\\n{I}\")"
   ]
  },
  {
   "cell_type": "markdown",
   "id": "7e049423",
   "metadata": {},
   "source": [
    "### Gerando combinações\n",
    "\n",
    "g0 = [0, 1, 0, 1, 1]</br>\n",
    "g1 = [1, 0, 0, 1, 0]</br>\n",
    "g2 = [0, 1, 1, 0, 0]</br>\n",
    "\n",
    "#### Possibilidades: \n",
    "* g0 **XOR** g1        = [1, 1, 0, 0, 1]\n",
    "* g0 **XOR** g2        = [0, 0, 1, 1, 1]\n",
    "* g1 **XOR** g2        = [1, 1, 1, 1, 0]\n",
    "* g0 **XOR** g1 XOR g2 = [1, 0, 1, 0, 1]"
   ]
  },
  {
   "cell_type": "code",
   "execution_count": 266,
   "id": "7c0e4764",
   "metadata": {},
   "outputs": [],
   "source": [
    "def generateCombinations(matrix):\n",
    "    rows_count = matrix.shape[0] # k linhas\n",
    "    combination_list = []\n",
    "    # Generate all combinations of rows\n",
    "    for r in range(1, rows_count + 1):\n",
    "        combination_list.extend(combinations(range(rows_count), r))\n",
    "\n",
    "    # Calculate XOR for each combination\n",
    "    row_xor = [np.bitwise_xor.reduce(matrix[list(comb)], axis=0) for comb in combination_list]\n",
    "\n",
    "    return np.array(row_xor)"
   ]
  },
  {
   "cell_type": "code",
   "execution_count": 269,
   "id": "dd57585a",
   "metadata": {},
   "outputs": [
    {
     "data": {
      "text/plain": [
       "array([[0, 1, 0, 1, 1],\n",
       "       [1, 0, 0, 1, 0],\n",
       "       [0, 1, 1, 0, 0],\n",
       "       [1, 1, 0, 0, 1],\n",
       "       [0, 0, 1, 1, 1],\n",
       "       [1, 1, 1, 1, 0],\n",
       "       [1, 0, 1, 0, 1]])"
      ]
     },
     "execution_count": 269,
     "metadata": {},
     "output_type": "execute_result"
    }
   ],
   "source": [
    "combs = generateCombinations(G)\n",
    "combs"
   ]
  },
  {
   "cell_type": "markdown",
   "id": "49bf499f",
   "metadata": {},
   "source": [
    "A matriz paridade tem dimensões k X n-2 ou 3x2"
   ]
  },
  {
   "cell_type": "markdown",
   "id": "62c23d1c",
   "metadata": {},
   "source": [
    "### Matriz sistemática"
   ]
  },
  {
   "cell_type": "code",
   "execution_count": 278,
   "id": "2365c381",
   "metadata": {},
   "outputs": [],
   "source": [
    "def generateSistematicG(M_Identity, M_Combinations, n):\n",
    "    G_systematic_List = []\n",
    "    for row_i in M_Identity:\n",
    "        for comb in M_Combinations:\n",
    "            parity = comb[:n-2-1]\n",
    "            code_from_G = comb[n-2-1:]\n",
    "\n",
    "            if np.array_equal(row_i, code_from_G):\n",
    "                g_systematic = np.concatenate((parity, row_i))\n",
    "                G_systematic_List.append(g_systematic)\n",
    "    \n",
    "    return np.array(G_systematic_List)"
   ]
  },
  {
   "cell_type": "code",
   "execution_count": 280,
   "id": "fbe964b1",
   "metadata": {},
   "outputs": [
    {
     "data": {
      "text/plain": [
       "array([[0, 1, 1, 0, 0],\n",
       "       [1, 0, 0, 1, 0],\n",
       "       [1, 1, 0, 0, 1]])"
      ]
     },
     "execution_count": 280,
     "metadata": {},
     "output_type": "execute_result"
    }
   ],
   "source": [
    "n = combs[0].shape[0]\n",
    "G_systematic = generateSistematicG(I, combs, n)\n",
    "G_systematic"
   ]
  },
  {
   "cell_type": "markdown",
   "id": "85da5f6c",
   "metadata": {},
   "source": [
    "### Gerando novos codigos"
   ]
  },
  {
   "cell_type": "code",
   "execution_count": 294,
   "id": "9c5d995d",
   "metadata": {},
   "outputs": [
    {
     "data": {
      "text/html": [
       "<div>\n",
       "<style scoped>\n",
       "    .dataframe tbody tr th:only-of-type {\n",
       "        vertical-align: middle;\n",
       "    }\n",
       "\n",
       "    .dataframe tbody tr th {\n",
       "        vertical-align: top;\n",
       "    }\n",
       "\n",
       "    .dataframe thead th {\n",
       "        text-align: right;\n",
       "    }\n",
       "</style>\n",
       "<table border=\"1\" class=\"dataframe\">\n",
       "  <thead>\n",
       "    <tr style=\"text-align: right;\">\n",
       "      <th></th>\n",
       "      <th>message</th>\n",
       "      <th>code</th>\n",
       "    </tr>\n",
       "  </thead>\n",
       "  <tbody>\n",
       "    <tr>\n",
       "      <th>0</th>\n",
       "      <td>[0, 0, 0]</td>\n",
       "      <td>[0, 0, 0, 0, 0]</td>\n",
       "    </tr>\n",
       "    <tr>\n",
       "      <th>1</th>\n",
       "      <td>[0, 0, 1]</td>\n",
       "      <td>[1, 1, 0, 0, 1]</td>\n",
       "    </tr>\n",
       "    <tr>\n",
       "      <th>2</th>\n",
       "      <td>[0, 1, 0]</td>\n",
       "      <td>[1, 0, 0, 1, 0]</td>\n",
       "    </tr>\n",
       "    <tr>\n",
       "      <th>3</th>\n",
       "      <td>[0, 1, 1]</td>\n",
       "      <td>[0, 1, 0, 1, 1]</td>\n",
       "    </tr>\n",
       "    <tr>\n",
       "      <th>4</th>\n",
       "      <td>[1, 0, 0]</td>\n",
       "      <td>[0, 1, 1, 0, 0]</td>\n",
       "    </tr>\n",
       "    <tr>\n",
       "      <th>5</th>\n",
       "      <td>[1, 0, 1]</td>\n",
       "      <td>[1, 0, 1, 0, 1]</td>\n",
       "    </tr>\n",
       "    <tr>\n",
       "      <th>6</th>\n",
       "      <td>[1, 1, 0]</td>\n",
       "      <td>[1, 1, 1, 1, 0]</td>\n",
       "    </tr>\n",
       "    <tr>\n",
       "      <th>7</th>\n",
       "      <td>[1, 1, 1]</td>\n",
       "      <td>[0, 0, 1, 1, 1]</td>\n",
       "    </tr>\n",
       "  </tbody>\n",
       "</table>\n",
       "</div>"
      ],
      "text/plain": [
       "     message             code\n",
       "0  [0, 0, 0]  [0, 0, 0, 0, 0]\n",
       "1  [0, 0, 1]  [1, 1, 0, 0, 1]\n",
       "2  [0, 1, 0]  [1, 0, 0, 1, 0]\n",
       "3  [0, 1, 1]  [0, 1, 0, 1, 1]\n",
       "4  [1, 0, 0]  [0, 1, 1, 0, 0]\n",
       "5  [1, 0, 1]  [1, 0, 1, 0, 1]\n",
       "6  [1, 1, 0]  [1, 1, 1, 1, 0]\n",
       "7  [1, 1, 1]  [0, 0, 1, 1, 1]"
      ]
     },
     "execution_count": 294,
     "metadata": {},
     "output_type": "execute_result"
    }
   ],
   "source": [
    "vetoresCodigos2 = gerarVetoresCodigo(G_systematic, messages)\n",
    "vetoresCodigos2"
   ]
  },
  {
   "cell_type": "code",
   "execution_count": null,
   "id": "840bea4a",
   "metadata": {},
   "outputs": [],
   "source": []
  },
  {
   "cell_type": "markdown",
   "id": "0b4d6ba0",
   "metadata": {},
   "source": [
    "## PLAYGROUND E ASSUNTOS BIZARROS"
   ]
  },
  {
   "cell_type": "code",
   "execution_count": 292,
   "id": "0725406f",
   "metadata": {},
   "outputs": [
    {
     "data": {
      "text/html": [
       "<div>\n",
       "<style scoped>\n",
       "    .dataframe tbody tr th:only-of-type {\n",
       "        vertical-align: middle;\n",
       "    }\n",
       "\n",
       "    .dataframe tbody tr th {\n",
       "        vertical-align: top;\n",
       "    }\n",
       "\n",
       "    .dataframe thead th {\n",
       "        text-align: right;\n",
       "    }\n",
       "</style>\n",
       "<table border=\"1\" class=\"dataframe\">\n",
       "  <thead>\n",
       "    <tr style=\"text-align: right;\">\n",
       "      <th></th>\n",
       "      <th>message</th>\n",
       "      <th>code</th>\n",
       "    </tr>\n",
       "  </thead>\n",
       "  <tbody>\n",
       "    <tr>\n",
       "      <th>0</th>\n",
       "      <td>[0, 0, 0]</td>\n",
       "      <td>[0, 0, 0, 0, 0]</td>\n",
       "    </tr>\n",
       "    <tr>\n",
       "      <th>1</th>\n",
       "      <td>[0, 0, 1]</td>\n",
       "      <td>[0, 1, 1, 0, 0]</td>\n",
       "    </tr>\n",
       "    <tr>\n",
       "      <th>2</th>\n",
       "      <td>[0, 1, 0]</td>\n",
       "      <td>[1, 0, 0, 1, 0]</td>\n",
       "    </tr>\n",
       "    <tr>\n",
       "      <th>3</th>\n",
       "      <td>[0, 1, 1]</td>\n",
       "      <td>[1, 1, 1, 1, 0]</td>\n",
       "    </tr>\n",
       "    <tr>\n",
       "      <th>4</th>\n",
       "      <td>[1, 0, 0]</td>\n",
       "      <td>[0, 1, 0, 1, 1]</td>\n",
       "    </tr>\n",
       "    <tr>\n",
       "      <th>5</th>\n",
       "      <td>[1, 0, 1]</td>\n",
       "      <td>[0, 0, 1, 1, 1]</td>\n",
       "    </tr>\n",
       "    <tr>\n",
       "      <th>6</th>\n",
       "      <td>[1, 1, 0]</td>\n",
       "      <td>[1, 1, 0, 0, 1]</td>\n",
       "    </tr>\n",
       "    <tr>\n",
       "      <th>7</th>\n",
       "      <td>[1, 1, 1]</td>\n",
       "      <td>[1, 0, 1, 0, 1]</td>\n",
       "    </tr>\n",
       "  </tbody>\n",
       "</table>\n",
       "</div>"
      ],
      "text/plain": [
       "     message             code\n",
       "0  [0, 0, 0]  [0, 0, 0, 0, 0]\n",
       "1  [0, 0, 1]  [0, 1, 1, 0, 0]\n",
       "2  [0, 1, 0]  [1, 0, 0, 1, 0]\n",
       "3  [0, 1, 1]  [1, 1, 1, 1, 0]\n",
       "4  [1, 0, 0]  [0, 1, 0, 1, 1]\n",
       "5  [1, 0, 1]  [0, 0, 1, 1, 1]\n",
       "6  [1, 1, 0]  [1, 1, 0, 0, 1]\n",
       "7  [1, 1, 1]  [1, 0, 1, 0, 1]"
      ]
     },
     "execution_count": 292,
     "metadata": {},
     "output_type": "execute_result"
    }
   ],
   "source": [
    "codes = []\n",
    "for message in messages:\n",
    "    mult = (message * G.T).T\n",
    "    code = np.bitwise_xor.reduce(mult, axis=0)\n",
    "#     decoded = np.roll(code, 1)[:3]\n",
    "#     isCorrectDecoded = (np.array_equal(np.array(message), np.array(decoded)))\n",
    "    dict_code = {\n",
    "        \"message\": message,\n",
    "        \"code\": code,\n",
    "#         \"isDecoded\": isCorrectDecoded\n",
    "    }\n",
    "    codes.append(dict_code)\n",
    "        \n",
    "df = pd.DataFrame(codes)\n",
    "df"
   ]
  },
  {
   "cell_type": "code",
   "execution_count": null,
   "id": "5f85b61a",
   "metadata": {},
   "outputs": [],
   "source": []
  }
 ],
 "metadata": {
  "kernelspec": {
   "display_name": "Python 3 (ipykernel)",
   "language": "python",
   "name": "python3"
  },
  "language_info": {
   "codemirror_mode": {
    "name": "ipython",
    "version": 3
   },
   "file_extension": ".py",
   "mimetype": "text/x-python",
   "name": "python",
   "nbconvert_exporter": "python",
   "pygments_lexer": "ipython3",
   "version": "3.9.12"
  }
 },
 "nbformat": 4,
 "nbformat_minor": 5
}
